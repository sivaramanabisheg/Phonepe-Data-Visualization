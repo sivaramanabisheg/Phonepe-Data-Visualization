#!/usr/bin/env python
# coding: utf-8

# In[7]:


import streamlit as st
import json
import pandas as pd
import mysql.connector
import requests
import plotly.express as px
import plotly.graph_objects as go
from PIL import Image
from streamlit_option_menu import option_menu
from PIL import Image
from git.repo.base import Repo
import plotly.express as px

#  CREATE DATAFRAMES FROM SQL 
mydb = mysql.connector.connect( host="localhost", user="root", password="Abisheg@7103", database="phonepe") # MySQL DB Connection
print(mydb)
mycursor = mydb.cursor()
# Setting up page configuration
path=r"C:\Users\HP\Desktop\Phonepe\Phonepe_Logo.jpg"
icon = Image.open(path)
st.set_page_config(
                page_title="PhonePe Data Visualization and Exploration",
                page_icon=icon,
                layout="wide")
st.markdown("""<style>
                body {
                    font-family: serif;
                }
                </style>""",unsafe_allow_html=True )

# Display the PhonePe logo in full size
st.image("Phonepe_Logo.jpg", width=300)

# Display a title
st.title(':green[PhonePe Data Visualization and Exploration]')
st.markdown("""
    <div style='text-align: center;'>
        <h4>A User-Friendly Tool Using Streamlit and Plotly</h4>
    </div>
    """, unsafe_allow_html=True)

selected = option_menu("Phonepe Pulse | The Beat Of Progress", ["Home","Top Charts","Explore Data","About"],
                icons=["house","bar-chart-line","graph-up-arrow", "exclamation-circle"],
                menu_icon="globe",
                default_index=0,
                orientation='horizontal',
                styles={"nav-link": {"font-size": "20px", "text-align": "left", "margin": "-2px", "--hover-color": "#6F36AD"},
                        "nav-link-selected": {"background-color": "#6F36AD"}})

if selected == "Home":
    col1, col2 = st.columns([2,2])
    with col1:
        st.markdown("""
            ### :violet[Project Description]: ###
            This project aims to extract, process, and visualize data from the PhonePe Pulse Github repository.The goal is to create a user-friendly dashboard using Streamlit and Plotly to display insights and information from the data.""", unsafe_allow_html=True)
        st.markdown("### :violet[Domain]: ###\n*Fintech*")
        st.markdown("""
                    ### :violet[Technologies used]: ###
                    - **Github Cloning**
                    - **Python**
                    - **Pandas**
                    - **MySQL**
                    - **mysql-connector-python**
                    - **Streamlit**
                    - **Plotly**
                    """, unsafe_allow_html=True)
        st.markdown("### :violet[Problem Statement]: ###\nThe PhonePe Pulse Github repository contains a large amount of data related to various metrics and statistics. The goal is to extract this data and process it to obtain insights and information that can be visualized in a user-friendly manner.")
    # Display image
    with col2:
        st.write(" ")
        st.write(" ")
        st.write(" ")
        st.write(" ")
#--------------------------------------------
# TOP CHARTS - 
if selected == "Top Charts":
    st.markdown("## :green[Top Charts]")
    Type = st.sidebar.selectbox("**Type**", ("Transactions", "Users"))
    colum1, colum2 = st.columns([1,3], gap="large")

    Year = st.sidebar.slider("**Year**", min_value=2018, max_value=2024)
    Quarter = st.sidebar.slider("Quarter", min_value=1, max_value=4)
    if Year == 2024 and Quarter in [2, 3, 4]:
                st.error("#### No Data available to Display for 2024 Qtr 2,3,4")
    with colum1:
        st.write("")
        st.write("")
    with colum2:
        st.info(
            """
            #### From this menu we can get insights like:
            - 📅 Ranking by Year and Quarter.
            - 📊 Top 10 States, Districts, and Pincodes by transactions and amount.
            - 📈 Top 10 States, Districts, and Pincodes by users and app openings.
            - 📱 Top 10 mobile brands and their usage percentage.
            - 🗺️ States and Districts with the least 10 app users.
            """, icon="🔍")
        st.write("")
        st.write("")
#--------------------------------------------
    # Top Charts - Transactions   
    if Type == "Transactions":
        col1, col2 = st.columns([2, 2], gap="large")
        col3 = st.columns(1)[0]
        col4, col5= st.columns([2, 2], gap="large")

        with col1:
            st.markdown("### :green[1. Top 10 States by Total number of transactions]")
            mycursor.execute(f'''select state, sum(transaction_count) as Total_Transactions_Count
                            from agg_trans where Year = {Year} and Quarter= {Quarter} group by state 
                            order by Total_Transactions_Count desc limit 10''')
            df = pd.DataFrame(mycursor.fetchall(), columns=['State', 'Total_Transactions_Count'])
            fig = px.bar(df,
                            title='Top 10 States -Transactions count',
                            x='Total_Transactions_Count',
                            y='State',
                            orientation='h',
                            color='Total_Transactions_Count',
                            color_continuous_scale=px.colors.sequential.Viridis)
            fig.update_traces(text=df['Total_Transactions_Count'], textposition='inside')
            st.plotly_chart(fig, use_container_width=True)

        with col2:
            st.markdown("### :green[2. Top 10 States by Total transaction amount]")
            mycursor.execute(f'''select state, sum(transaction_amount) as Total_Transaction_Amount
                            from agg_trans where Year = {Year} and Quarter= {Quarter} group by state 
                            order by Total_Transaction_Amount desc limit 10''')
            df = pd.DataFrame(mycursor.fetchall(), columns=['State', 'Total_Transaction_Amount'])
            fig = px.bar(df,
                            title='Top 10 States - Total transaction amount',
                            x='Total_Transaction_Amount',
                            y='State',
                            orientation='h',
                            color='Total_Transaction_Amount',
                            color_continuous_scale=px.colors.sequential.Viridis)
            fig.update_traces(text=df['Total_Transaction_Amount'], textposition='inside')
            st.plotly_chart(fig, use_container_width=True)

        with col3:
            st.markdown("### :green[3. Top 10 Districts by Total number of transactions]")
            mycursor.execute(f'''select district as District, state, sum(transaction_count) as Total_Count
                                from map_trans
                                where Year = {Year} and Quarter = {Quarter}
                                group by District, state
                                order by Total_Count desc
                                limit 10''')
            df = pd.DataFrame(mycursor.fetchall(), columns=['District', 'State', 'Total_Count'])
            fig = px.pie(df,
                        title='Top 10 Districts - Transactions Count',
                        values='Total_Count',
                        names='District',
                        color_discrete_sequence=px.colors.sequential.Agsunset,
                        hover_data=['State'],
                        labels={'Total_Count': 'transaction_count'})
            fig.update_traces(text=df['Total_Count'], textposition='inside')
            st.plotly_chart(fig, use_container_width=True)

        with col4:
            st.markdown("### :green[4. Top 10 Districts by Total transaction amount]")
            mycursor.execute(f'''select district as District, state, sum(transaction_amount) as Total_Amount
                            from map_trans where Year = {Year} and Quarter = {Quarter} group by District, state
                            order by Total_Amount desc limit 10''')
            df = pd.DataFrame(mycursor.fetchall(), columns=['District','State', 'Total_Amount'])
            fig = px.bar(df,
                            title='Top 10 Districts - Total transaction amount',
                            x='Total_Amount',
                            y='District',
                            orientation='h',
                            color='Total_Amount',
                            hover_data=['State'],
                            color_continuous_scale=px.colors.sequential.Viridis)
            fig.update_traces(text=df['Total_Amount'], textposition='inside')
            st.plotly_chart(fig, use_container_width=True)

        with col5:
            st.markdown("### :green[5. Top 10 Pincodes by Total transaction amount]")
            mycursor.execute(f'''SELECT pincode, state, SUM(transaction_count) AS Total_Transactions_Count, SUM(transaction_amount) AS Total_Amount
                                FROM top_trans
                                WHERE Year = {Year} AND Quarter = {Quarter}
                                GROUP BY pincode, state
                                ORDER BY Total_Amount DESC
                                LIMIT 10''')
            df = pd.DataFrame(mycursor.fetchall(), columns=['Pincode', 'State', 'Total_Transactions_Count', 'Total_Amount'])
            df['Pincode'] = df['Pincode'].astype(str)  # Convert Pincode to string
            fig = px.bar(df,
                        title='Top 10 Pincodes - Total transaction amount',
                        x='Pincode',
                        y='Total_Amount', 
                        labels={'pincode': 'Pincode', 'Total_Amount': 'Total Amount'},
                        hover_data=['State', 'Pincode'])
            fig.update_xaxes(type='category', tickmode='linear')
            st.plotly_chart(fig, use_container_width=True)

#------------------------------------------------
    # Top Charts - USERS          
    if Type == "Users":
        col1, col2 = st.columns([2, 2], gap="large")
        col3 = st.columns(1)[0]
        col4, col5= st.columns([2, 2], gap="large")

        with col1:
                st.markdown("### :green[6. Top 10 mobile phone brands used by PhonePe users? ]")
                mycursor.execute(f'''SELECT brand_type, SUM(brand_user_count) AS total_user_count, AVG(brand_user_percentage) * 100 AS avg_user_percentage 
                                    FROM agg_user WHERE Year = {Year} AND Quarter = {Quarter} GROUP BY brand_type ORDER BY total_user_count DESC LIMIT 10''')
                df = pd.DataFrame(mycursor.fetchall(), columns=['Brand_Type', 'total_user_count', 'avg_user_percentage'])
                fig = px.bar(
                    df,
                    title='Top 10 User Brands',
                    x="total_user_count",
                    y="Brand_Type",
                    orientation='h',
                    color='avg_user_percentage',
                    color_discrete_sequence=px.colors.sequential.Viridis)
                fig.update_layout(xaxis_title='Total User Count', yaxis_title='User Brand')
                st.plotly_chart(fig, use_container_width=True)

        with col2:
            st.markdown("### :green[7.Top 10 states by the total number of registered users]")
            mycursor.execute(f'''select state, sum(registered_users) as Total_Users, sum(app_opens) as Total_Appopens from 
                            map_user where Year = {Year} and Quarter= {Quarter} group by state order by Total_Users desc limit 10''')
            df = pd.DataFrame(mycursor.fetchall(), columns=['State', 'Registered_user', 'App_opening'])
            fig = px.pie(df, values='Registered_user',
                            names='State',
                            title='Top 10 states by registered users',
                            color_discrete_sequence=px.colors.sequential.Agsunset,
                            hover_data=['App_opening'],
                            labels={'App_opening': 'App_opening'})
            fig.update_traces(text=df['Registered_user'], textposition='inside')
            st.plotly_chart(fig, use_container_width=True)

        with col3:
            st.markdown("### :green[8.Top 10 districts by the total number of registered users]")
            mycursor.execute(f'''select district,state, sum(registered_users) as Total_Users, sum(app_opens) as Total_Appopens from
                            map_user where Year = {Year} and Quarter= {Quarter} group by district, registered_users, state order by Total_Users desc limit 10''')
            df = pd.DataFrame(mycursor.fetchall(), columns=['District','State','Registered_user', 'App_opening'])
            df.Registered_user = df.Registered_user.astype(float)
            fig = px.bar(df,
                        title='Top 10 districts by registered users',
                        x="Registered_user",
                        y="District",
                        orientation='h',
                        color='Registered_user',
                        hover_data=['State'],
                        color_continuous_scale=px.colors.sequential.Agsunset)
            fig.update_traces(text=df['Registered_user'], textposition='inside')
            st.plotly_chart(fig, use_container_width=True)

        with col4:
            st.markdown("### :green[9. Top 10 Pincodes by the total number of registered users]")
            mycursor.execute(f'''SELECT pincode, state, SUM(registered_users) AS Total_Users
                                FROM top_user
                                WHERE Year = {Year} AND Quarter = {Quarter}
                                GROUP BY pincode, state
                                ORDER BY Total_Users DESC
                                LIMIT 10''')
            df = pd.DataFrame(mycursor.fetchall(), columns=['Pincode', 'State', 'registeredusers'])
            fig = px.pie(df,
                        values='registeredusers',
                        names='Pincode',
                        title='Top 10 Pincodes by registered users',
                        color_discrete_sequence=px.colors.sequential.Viridis,
                        hover_data=['State'])
            fig.update_traces(text=df['registeredusers'], textposition='inside')
            st.plotly_chart(fig, use_container_width=True)

        with col5:
            st.markdown("### :green[10. State and District with the least 10 number of registered users]")
            mycursor.execute(f'''SELECT state, district, SUM(registered_users) AS Total_Users
                                FROM map_user
                                WHERE Year = {Year} AND Quarter = {Quarter}
                                GROUP BY state, district
                                ORDER BY Total_Users ASC
                                LIMIT 10''')
            df = pd.DataFrame(mycursor.fetchall(), columns=['State', 'District', 'Total_Users'])
            df['Total_Users'] = df['Total_Users'].astype(float)  # Convert Total_Users to float
            fig = px.bar(df,
                        title='State and District with the least number of registered users',
                        x='Total_Users',
                        y='District',
                        orientation='h',
                        color='Total_Users',
                        color_continuous_scale=px.colors.sequential.Agsunset,
                        hover_data=['State', 'District', 'Total_Users'])
            st.plotly_chart(fig, use_container_width=True)

# EXPLORE DATA
if selected == "Explore Data":
    Type = st.sidebar.selectbox("**Type**", ("Transactions", "Users"))
    colum1, colum2 = st.columns([1, 1.5], gap="large")
    Year = st.sidebar.slider("**Year**", min_value=2018, max_value=2024)
    Quarter = st.sidebar.slider("Quarter", min_value=1, max_value=4)
    if Year == 2024 and Quarter in [2, 3, 4]:
                st.error("#### No Data available to Display for 2024 Qtr 2,3,4")
    col1, col2 = st.columns(2)

    # EXPLORE DATA - Transactions   
    if Type == "Transactions":     
        col1 = st.columns(1)[0]
        col2 = st.columns(1)[0]
        # Overall State Data - TRANSACTIONS AMOUNT - INDIA MAP 
        with col1:
            st.markdown("## :violet[Overall State Data - Transactions Amount]")
            mycursor.execute(f'''SELECT state, SUM(transaction_count) AS Total_Transactions_count, SUM(transaction_amount) AS Total_amount                                    FROM map_trans WHERE Year = {Year} AND Quarter = {Quarter} GROUP BY state ORDER BY state''')
            df1 = pd.DataFrame(mycursor.fetchall(), columns=['State', 'Total_Transactions_count', 'Total_amount'])
            df2 = pd.read_csv('States.csv')
            if 'state' in df2.columns:
                df1 = df1.merge(df2[['State']], on='State', how='left')    
            fig = px.choropleth(df1, geojson="https://gist.githubusercontent.com/jbrobst/56c13bbbf9d97d187fea01ca62ea5112/raw/e388c4cae20aa53cb5090210a42ebb9b765c0a36/india_states.geojson",
                        featureidkey='properties.ST_NM',
                        locations='State',
                        color='Total_amount',
                        color_continuous_scale='sunset')
            fig.update_geos(fitbounds="locations", visible=False)
            fig.update_layout(geo=dict(scope='asia'), height=600, width=800)
            st.plotly_chart(fig, use_container_width=True)
        with col2:
            st.markdown("## :violet[Overall State Data - Transactions count]")
            mycursor.execute(f'''SELECT state, SUM(transaction_count) AS Total_Transactions_count, SUM(transaction_amount) AS Total_amount                                    FROM map_trans WHERE Year = {Year} AND Quarter = {Quarter} GROUP BY state ORDER BY state''')
            df3 = pd.DataFrame(mycursor.fetchall(), columns=['State', 'Total_Transactions_count', 'Total_amount'])
            df4 = pd.read_csv('States.csv')
            if 'state' in df4.columns:
                df3 = df3.merge(df4[['State']], on='State', how='left')
            fig2 = px.choropleth(df3, geojson="https://gist.githubusercontent.com/jbrobst/56c13bbbf9d97d187fea01ca62ea5112/raw/e388c4cae20aa53cb5090210a42ebb9b765c0a36/india_states.geojson",
                            featureidkey='properties.ST_NM',
                            locations='State',
                            color='Total_Transactions_count',
                            color_continuous_scale='sunset')
            fig2.update_geos(fitbounds="locations", visible=False)
            fig2.update_layout(geo=dict(scope='asia'), height=600, width=800)
            st.plotly_chart(fig2, use_container_width=True)
#--------------------------------------------
        # BAR CHART - TOP PAYMENT TYPE
        st.markdown("## :violet[Top Payment Type]")
        mycursor.execute(f'''SELECT transaction_type, SUM(transaction_count) AS Total_Transactions_count, SUM(transaction_amount) AS 
                            Total_Transactions_amount FROM agg_trans WHERE Year= {Year} AND Quarter = {Quarter} GROUP BY transaction_type                               ORDER BY transaction_type''')
        df = pd.DataFrame(mycursor.fetchall(), columns=['Transaction_type', 'Total_Transactions_count','Total_Transactions_amount'])
        fig = px.bar(df,
                    title='Transaction Types vs Total_Transactions_count',
                    x="Transaction_type",
                    y="Total_Transactions_count",
                    orientation='v',
                    color='Total_Transactions_amount',
                    color_continuous_scale=px.colors.sequential.Agsunset)
        st.plotly_chart(fig, use_container_width=False)
#--------------------------------------------
# BAR CHART TRANSACTIONS - DISTRICT WISE DATA            
        st.markdown("## :violet[Select any State for more details]")
        selected_state = st.selectbox("Select State", [
            'Andaman And Nicobar', 'Andhra Pradesh', 'Arunachal Pradesh', 'Assam', 'Bihar', 'Chandigarh', 'Chhattisgarh',
            'Dadra & Nagar Haveli & Daman & Diu', 'Delhi', 'Goa', 'Gujarat', 'Haryana', 'Himachal Pradesh',
            'Jammu & Kashmir', 'Jharkhand', 'Karnataka', 'Kerala', 'Ladakh', 'Lakshadweep', 'Madhya Pradesh', 'Maharashtra',
            'Manipur', 'Meghalaya', 'Mizoram', 'Nagaland', 'Odisha', 'Puducherry', 'Punjab', 'Rajasthan', 'Sikkim',
            'Tamil Nadu', 'Telangana', 'Tripura', 'Uttar Pradesh', 'Uttarakhand', 'West Bengal'], index=30)
        mycursor.execute(f'''
            SELECT state, district, Year, Quarter, SUM(transaction_count) AS Total_Transactions_count, SUM(transaction_amount) AS Total_transaction_amount 
            FROM map_trans 
            WHERE Year = {Year} AND Quarter = {Quarter} AND state = '{selected_state}' 
            GROUP BY state, district, Year, Quarter 
            ORDER BY state, district''')
        df1 = pd.DataFrame(mycursor.fetchall(), columns=['state', 'district', 'Year', 'Quarter',
                                                        'Total_Transactions_count', 'Total_transaction_amount'])
        fig = px.bar(df1,
                    title=selected_state,
                    x="district",
                    y="Total_Transactions_count",
                    orientation='v',
                    color='Total_transaction_amount',
                    color_continuous_scale=px.colors.sequential.Agsunset)
        st.plotly_chart(fig, use_container_width=True)

# EXPLORE DATA - USERS
    if Type == "Users":
        # Create a Streamlit title
        st.markdown("## :violet[Overall State Data - User App Opening Frequency]")
        mycursor.execute(f'''SELECT state, SUM(registered_users) AS Total_Users, SUM(app_opens) AS Total_Appopens FROM
                            map_user WHERE Year = {Year} AND Quarter = {Quarter} GROUP BY state ORDER BY state''')
        df1 = pd.DataFrame(mycursor.fetchall(), columns=['state', 'Total_Users', 'Total_Appopens'])
        df2 = pd.read_csv('States.csv')
        df1['Total_Appopens'] = df1['Total_Appopens'].astype(float)
        if 'State' in df2.columns:
            df1 = df1.merge(df2[['State']], on='State', how='left')
        fig = px.choropleth(
            df1,            geojson="https://gist.githubusercontent.com/jbrobst/56c13bbbf9d97d187fea01ca62ea5112/raw/e388c4cae20aa53cb5090210a42ebb9b765c0a36/india_states.geojson",
            featureidkey='properties.ST_NM',
            locations='State',
            color='Total_Appopens',
            color_continuous_scale=px.colors.diverging.Picnic)
        fig.update_geos(fitbounds="locations", visible=False)
        fig.update_layout(geo=dict(scope='asia'), height=600, width=800)
        st.plotly_chart(fig, use_container_width=True)
#--------------------------------------------
        # BAR CHART TOTAL USERS - DISTRICT WISE DATA
        st.markdown("## :violet[Select any State to explore more]")
        selected_state = st.selectbox("Select State", [
            'Andaman And Nicobar', 'Andhra Pradesh', 'Arunachal Pradesh', 'Assam', 'Bihar', 'Chandigarh', 'Chhattisgarh',
            'Dadra & Nagar Haveli & Daman & Diu', 'Delhi', 'Goa', 'Gujarat', 'Haryana', 'Himachal Pradesh',
            'Jammu & Kashmir', 'Jharkhand', 'Karnataka', 'Kerala', 'Ladakh', 'Lakshadweep', 'Madhya Pradesh', 'Maharashtra',
            'Manipur', 'Meghalaya', 'Mizoram', 'Nagaland', 'Odisha', 'Puducherry', 'Punjab', 'Rajasthan', 'Sikkim',
            'Tamil Nadu', 'Telangana', 'Tripura', 'Uttar Pradesh', 'Uttarakhand', 'West Bengal'], index=30)
        mycursor.execute(f'''SELECT state, district, year, quarter, SUM(transaction_count) AS Total_Transactions_count, SUM(transaction_amount) AS Total_transaction_amount
                            FROM map_trans WHERE Year = {Year} AND Quarter = {Quarter} AND state = '{selected_state}' GROUP BY state, district, year, quarter ORDER BY state, district''')
        df1 = pd.DataFrame(mycursor.fetchall(), columns=['state', 'district', 'Year', 'Quarter',
                                                         'Total_Transactions_count', 'Total_transaction_amount'])
        fig = px.bar(df1,
                    title=selected_state,
                    x="district",
                    y="Total_Transactions_count",
                    orientation='v',
                    color='Total_transaction_amount',
                    color_continuous_scale=px.colors.sequential.Agsunset)
        st.plotly_chart(fig, use_container_width=True)
    
# MENU 4 - ABOUT
if selected == "About":
    col1,col2 = st.columns([1,1],gap="Medium")    
    with col1:
        st.write(" ")
        st.write(" ")
        st.markdown("# :violet[About PhonePe Pulse:]")
        st.markdown("""### \n📍 **BENGALURU, India, On Sept. 3, 2021** - PhonePe, India's leading fintech platform, unveiled PhonePe Pulse, an interactive website offering data, insights, and trends on digital payments in India.
            \nIt features an interactive map highlighting over 2000 Crore transactions. With a market share exceeding 45%, PhonePe's data reflects prevalent digital payment habits.PhonePe Pulse is the way of giving back to the digital payments ecosystem. This data has been structured to provide details on data cuts of Transactions and Users on the Explore tab.\n""")
        st.write(" ")
        st.markdown(""" 
            # :violet[About PhonePe:]
            📱 **PhonePe** is India's leading fintech platform with 300M+ registered users. Users can send and receive money, recharge mobile, DTH, pay at stores, make utility payments, buy gold, and make investments.\n
            PhonePe launched financial services in 2017, starting with Gold, and has since added Mutual Funds, Insurance products, and the Switch platform for in-app shopping on 600+ apps. Accepted at 20M+ merchant outlets.\n
            #### :orange[Key Features:]
            - **UPI Payments**: Secure instant transfers
            - **Wallet Services**: Quick payments
            - **Recharge and Bill Payments**: Mobile, DTH, utility bills
            - **In-app Shopping**: Orders on 600+ apps
            - **Investments**: Gold, Mutual Funds, Insurance\n
            #### :red[Usage Statistics:]
            - 📈 **300M+ Users**
            - 🏪 **20M+ Merchant Outlets**
            - 🛍️ **10M+ Merchants\n
            #### :blue[Security Features:]
            - 🔒 **UPI PIN**
            - 👁️ **24/7 Fraud Monitoring\n
            #### :orange[Awards:]
            - 🏆 **Best UPI App by NPCI\n
            #### :red[Additional Insights:]
            - **Comprehensive Data**: Digital payment trends
            - **User-Friendly**: Easy-to-navigate interface
            - **Market Leader**: Significant market share
            - **Innovative**: New products/services
            - **Community Impact**: Financial inclusion and literacy""") 

    with col2:
        st.write(" ")
        st.write(" ")
        st.write(" ")
        st.write(" ")
        st.write(" ")
        st.write(" ")
        st.write(" ")
        st.write(" ")
        st.write(" ")
        st.write(" ")
        st.write(" ")
        st.write(" ")